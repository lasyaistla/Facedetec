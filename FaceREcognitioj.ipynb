{
  "nbformat": 4,
  "nbformat_minor": 0,
  "metadata": {
    "colab": {
      "name": "FaceREcognitioj.ipynb",
      "provenance": [],
      "authorship_tag": "ABX9TyNkV2WvH0oPqq7+QU8S+eiQ",
      "include_colab_link": true
    },
    "kernelspec": {
      "name": "python3",
      "display_name": "Python 3"
    },
    "language_info": {
      "name": "python"
    }
  },
  "cells": [
    {
      "cell_type": "markdown",
      "metadata": {
        "id": "view-in-github",
        "colab_type": "text"
      },
      "source": [
        "<a href=\"https://colab.research.google.com/github/lasyaistla/Facedetec/blob/main/FaceREcognitioj.ipynb\" target=\"_parent\"><img src=\"https://colab.research.google.com/assets/colab-badge.svg\" alt=\"Open In Colab\"/></a>"
      ]
    },
    {
      "cell_type": "code",
      "execution_count": 1,
      "metadata": {
        "colab": {
          "base_uri": "https://localhost:8080/",
          "height": 237
        },
        "id": "8P_Lezf4hTq4",
        "outputId": "eed5eaa5-4b19-4724-8002-3e3cd8b2b2ae"
      },
      "outputs": [
        {
          "output_type": "error",
          "ename": "AttributeError",
          "evalue": "ignored",
          "traceback": [
            "\u001b[0;31m---------------------------------------------------------------------------\u001b[0m",
            "\u001b[0;31mAttributeError\u001b[0m                            Traceback (most recent call last)",
            "\u001b[0;32m<ipython-input-1-e4dd0899e771>\u001b[0m in \u001b[0;36m<module>\u001b[0;34m()\u001b[0m\n\u001b[1;32m      4\u001b[0m \u001b[0;32mimport\u001b[0m \u001b[0mos\u001b[0m\u001b[0;34m\u001b[0m\u001b[0;34m\u001b[0m\u001b[0m\n\u001b[1;32m      5\u001b[0m \u001b[0map\u001b[0m\u001b[0;34m=\u001b[0m\u001b[0margparse\u001b[0m\u001b[0;34m.\u001b[0m\u001b[0mArgumentParser\u001b[0m\u001b[0;34m(\u001b[0m\u001b[0;34m)\u001b[0m\u001b[0;34m\u001b[0m\u001b[0;34m\u001b[0m\u001b[0m\n\u001b[0;32m----> 6\u001b[0;31m \u001b[0map\u001b[0m\u001b[0;34m.\u001b[0m\u001b[0madd_aurgument\u001b[0m\u001b[0;34m(\u001b[0m\u001b[0;34m\"-i\"\u001b[0m\u001b[0;34m,\u001b[0m\u001b[0;34m\"--input\"\u001b[0m\u001b[0;34m,\u001b[0m\u001b[0mtype\u001b[0m\u001b[0;34m=\u001b[0m\u001b[0mstr\u001b[0m\u001b[0;34m,\u001b[0m\u001b[0mrequired\u001b[0m\u001b[0;34m=\u001b[0m\u001b[0;32mTrue\u001b[0m\u001b[0;34m,\u001b[0m\u001b[0mhelp\u001b[0m\u001b[0;34m=\u001b[0m\u001b[0;34m\"path to input video\"\u001b[0m\u001b[0;34m)\u001b[0m\u001b[0;34m\u001b[0m\u001b[0;34m\u001b[0m\u001b[0m\n\u001b[0m\u001b[1;32m      7\u001b[0m \u001b[0map\u001b[0m\u001b[0;34m.\u001b[0m\u001b[0madd_aurgument\u001b[0m\u001b[0;34m(\u001b[0m\u001b[0;34m\"-o\"\u001b[0m\u001b[0;34m,\u001b[0m\u001b[0;34m\"--output\"\u001b[0m\u001b[0;34m,\u001b[0m\u001b[0mtype\u001b[0m\u001b[0;34m=\u001b[0m\u001b[0mstr\u001b[0m\u001b[0;34m,\u001b[0m\u001b[0mrequired\u001b[0m\u001b[0;34m=\u001b[0m\u001b[0;32mTrue\u001b[0m\u001b[0;34m,\u001b[0m\u001b[0mhelp\u001b[0m\u001b[0;34m=\u001b[0m\u001b[0;34m\"path to wierd pictures\"\u001b[0m\u001b[0;34m)\u001b[0m\u001b[0;34m\u001b[0m\u001b[0;34m\u001b[0m\u001b[0m\n\u001b[1;32m      8\u001b[0m \u001b[0map\u001b[0m\u001b[0;34m.\u001b[0m\u001b[0madd_aurgument\u001b[0m\u001b[0;34m(\u001b[0m\u001b[0;34m\"-d\"\u001b[0m\u001b[0;34m,\u001b[0m\u001b[0;34m\"--detector\"\u001b[0m\u001b[0;34m,\u001b[0m\u001b[0mtype\u001b[0m\u001b[0;34m=\u001b[0m\u001b[0mstr\u001b[0m\u001b[0;34m,\u001b[0m\u001b[0mrequired\u001b[0m\u001b[0;34m=\u001b[0m\u001b[0;32mTrue\u001b[0m\u001b[0;34m,\u001b[0m\u001b[0mhelp\u001b[0m\u001b[0;34m=\u001b[0m\u001b[0;34m\"path to face dtector\"\u001b[0m\u001b[0;34m)\u001b[0m\u001b[0;34m\u001b[0m\u001b[0;34m\u001b[0m\u001b[0m\n",
            "\u001b[0;31mAttributeError\u001b[0m: 'ArgumentParser' object has no attribute 'add_aurgument'"
          ]
        }
      ],
      "source": [
        "import numpy as np\n",
        "import argparse\n",
        "import cv2\n",
        "import os \n",
        "ap=argparse.ArgumentParser()\n",
        "ap.add_aurgument(\"-i\",\"--input\",type=str,required=True,help=\"path to input video\")\n",
        "ap.add_aurgument(\"-o\",\"--output\",type=str,required=True,help=\"path to wierd pictures\")\n",
        "ap.add_aurgument(\"-d\",\"--detector\",type=str,required=True,help=\"path to face dtector\")\n",
        "ap.add_aurgument(\"-c\",\"--confidence\",type=float,required=true, default=0.5,help=\"minimum probabilty\")\n",
        "ap.add_aurgument(\"-s\",\"--skip\",type=int,required=true, default=0.5,help=\"frmaes to skip\")\n",
        "args=vars(ap.parse_args())\n",
        "\n",
        "\n",
        "\n",
        "\n",
        "\n"
      ]
    },
    {
      "cell_type": "code",
      "source": [
        "print(\"LOADING FACE DETECTOR!!\")\n",
        "protopath=os.path.sep.join([args[\"detector]\",deploy.prototxt]])\n",
        "protopath=os.path.sep.join([args[\"detector\"],\"res10_256x256_ssd-iter-140000.caffmodel\"]])\n",
        "net=cv2.dnn.readNetFromCaffe(protoPath,modelPath)\n",
        "vs=cv2.VideoCapture(args[\"input\"])\n",
        "read=0\n",
        "saved=0\n",
        "while True:\n",
        "  (grabbed,frame)=vs.read()\n",
        "  if not grabbed:\n",
        "    break\n",
        "    read+=1\n",
        "    if read%args[\"skip\"]!=0:\n",
        "      continue\n",
        "      (h,w)=frame.shape[:2]\n",
        "      blob=cv2.dnn.blobFromImage(cv2.resize(frame,(300,300)),1.0,(300,300),(104.0,177.0,123.0))\n",
        "      net.setInput(blob)\n",
        "      detections=net.forward()\n",
        "      if len(detections)>0:\n",
        "        i=np.argmax(detections[0,0,:,2])\n",
        "        confidence=detections[0,0,i,2]\n"
      ],
      "metadata": {
        "id": "v9FvD9UEs70R"
      },
      "execution_count": null,
      "outputs": []
    }
  ]
}